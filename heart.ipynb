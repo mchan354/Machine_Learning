{
  "cells": [
    {
      "metadata": {},
      "cell_type": "markdown",
      "source": "# Project: Heart Diseases Prediction Model\n\n__Cardiovascular diseases__ are the leading cause of death globally, resulted in 17.9 million deaths (32.1%) in 2015, up from 12.3 million (25.8%) in 1990. It is estimated that 90% of CVD is preventable. There are many risk factors for heart diseases that we will take a closer look at.\n\nThe main objective of this study is to build a model that can predict the heart disease occurrence, based on a combination of features (risk factors) describing the disease. Different machine learning classification techniques will be implemented and compared upon standard performance metric such as accuracy.\n\nThe dataset used for this study was taken from UCI machine learning repository, titled “Heart Disease Data Set”.\n\nContents of the Notebook:\n\n1. Dataset structure & description\n\n1. Explore the data\n\n1. Data preparation\n\n1. Modelling and predicting with machine learning"
    },
    {
      "metadata": {
        "trusted": true
      },
      "cell_type": "code",
      "source": "# data analysis, splitting and wrangling\nimport pandas as pd\nimport numpy as np\nfrom sklearn.model_selection import train_test_split\nfrom sklearn.preprocessing import StandardScaler\n\n# visualization\nimport matplotlib.pyplot as plt\n%matplotlib inline\n\n\n# machine learning\nfrom sklearn.linear_model import LogisticRegression\nfrom sklearn.svm import SVC\nfrom sklearn.ensemble import RandomForestClassifier",
      "execution_count": 12,
      "outputs": []
    },
    {
      "metadata": {},
      "cell_type": "markdown",
      "source": "## 1. Dataset structure & description\n\nThis database contains 76 attributes, but all published experiments refer to using a subset of 14 of them. In particular, the Cleveland database is the only one that has been used by ML researchers to this date. The \"goal\" field refers to the presence of heart disease in the patient. It is integer valued from 0 (no presence) to 4. Experiments with the Cleveland database have concentrated on simply attempting to distinguish presence (values 1,2,3,4) from absence (value 0).  \n\nThe names and social security numbers of the patients were recently removed from the database, replaced with dummy values.\n\n### Attribute Information:\n\n- age - age in years\n- sex - sex(1 = male; 0 = female)\n- chest_pain - chest pain type (1 = typical angina; 2 = atypical angina; 3 = non-anginal pain; 4 = asymptomatic)\n- blood_pressure - resting blood pressure (in mm Hg on admission to the hospital)\n- serum_cholestoral - serum cholestoral in mg/dl\n- fasting_blood_sugar - fasting blood sugar > 120 mg/dl (1 = true; 0 = false)\n- electrocardiographic - resting electrocardiographic results (0 = normal; 1 = having ST-T; 2 = hypertrophy)\n- max_heart_rate - maximum heart rate achieved\n- induced_angina - exercise induced angina (1 = yes; 0 = no)\n- ST_depression - ST depression induced by exercise relative to rest\n- slope - the slope of the peak exercise ST segment (1 = upsloping; 2 = flat; 3 = downsloping)\n- no_of_vessels - number of major vessels (0-3) colored by flourosopy\n- thal - 3 = normal; 6 = fixed defect; 7 = reversable defect\n- diagnosis - the predicted attribute - diagnosis of heart disease (angiographic disease status) (Value 0 = < 50% diameter narrowing; Value 1 = > 50% diameter narrowing)"
    },
    {
      "metadata": {
        "trusted": true
      },
      "cell_type": "code",
      "source": "# column names in accordance with feature information\ncol_names = ['age','sex','chest_pain','blood_pressure','serum_cholestoral','fasting_blood_sugar', 'electrocardiographic',\n             'max_heart_rate','induced_angina','ST_depression','slope','no_of_vessels','thal','diagnosis']\n\n# read the file\ndf = pd.read_csv(\"http://archive.ics.uci.edu/ml/machine-learning-databases/heart-disease/processed.cleveland.data\", names=col_names, header=None, na_values=\"?\")\n\nprint(\"Number of records: {}\\nNumber of variables: {}\".format(df.shape[0], df.shape[1]))\n\n# display the first 5 lines\ndf.head()",
      "execution_count": 13,
      "outputs": [
        {
          "output_type": "stream",
          "text": "Number of records: 303\nNumber of variables: 14\n",
          "name": "stdout"
        },
        {
          "output_type": "execute_result",
          "execution_count": 13,
          "data": {
            "text/html": "<div>\n<style scoped>\n    .dataframe tbody tr th:only-of-type {\n        vertical-align: middle;\n    }\n\n    .dataframe tbody tr th {\n        vertical-align: top;\n    }\n\n    .dataframe thead th {\n        text-align: right;\n    }\n</style>\n<table border=\"1\" class=\"dataframe\">\n  <thead>\n    <tr style=\"text-align: right;\">\n      <th></th>\n      <th>age</th>\n      <th>sex</th>\n      <th>chest_pain</th>\n      <th>blood_pressure</th>\n      <th>serum_cholestoral</th>\n      <th>fasting_blood_sugar</th>\n      <th>electrocardiographic</th>\n      <th>max_heart_rate</th>\n      <th>induced_angina</th>\n      <th>ST_depression</th>\n      <th>slope</th>\n      <th>no_of_vessels</th>\n      <th>thal</th>\n      <th>diagnosis</th>\n    </tr>\n  </thead>\n  <tbody>\n    <tr>\n      <th>0</th>\n      <td>63.0</td>\n      <td>1.0</td>\n      <td>1.0</td>\n      <td>145.0</td>\n      <td>233.0</td>\n      <td>1.0</td>\n      <td>2.0</td>\n      <td>150.0</td>\n      <td>0.0</td>\n      <td>2.3</td>\n      <td>3.0</td>\n      <td>0.0</td>\n      <td>6.0</td>\n      <td>0</td>\n    </tr>\n    <tr>\n      <th>1</th>\n      <td>67.0</td>\n      <td>1.0</td>\n      <td>4.0</td>\n      <td>160.0</td>\n      <td>286.0</td>\n      <td>0.0</td>\n      <td>2.0</td>\n      <td>108.0</td>\n      <td>1.0</td>\n      <td>1.5</td>\n      <td>2.0</td>\n      <td>3.0</td>\n      <td>3.0</td>\n      <td>2</td>\n    </tr>\n    <tr>\n      <th>2</th>\n      <td>67.0</td>\n      <td>1.0</td>\n      <td>4.0</td>\n      <td>120.0</td>\n      <td>229.0</td>\n      <td>0.0</td>\n      <td>2.0</td>\n      <td>129.0</td>\n      <td>1.0</td>\n      <td>2.6</td>\n      <td>2.0</td>\n      <td>2.0</td>\n      <td>7.0</td>\n      <td>1</td>\n    </tr>\n    <tr>\n      <th>3</th>\n      <td>37.0</td>\n      <td>1.0</td>\n      <td>3.0</td>\n      <td>130.0</td>\n      <td>250.0</td>\n      <td>0.0</td>\n      <td>0.0</td>\n      <td>187.0</td>\n      <td>0.0</td>\n      <td>3.5</td>\n      <td>3.0</td>\n      <td>0.0</td>\n      <td>3.0</td>\n      <td>0</td>\n    </tr>\n    <tr>\n      <th>4</th>\n      <td>41.0</td>\n      <td>0.0</td>\n      <td>2.0</td>\n      <td>130.0</td>\n      <td>204.0</td>\n      <td>0.0</td>\n      <td>2.0</td>\n      <td>172.0</td>\n      <td>0.0</td>\n      <td>1.4</td>\n      <td>1.0</td>\n      <td>0.0</td>\n      <td>3.0</td>\n      <td>0</td>\n    </tr>\n  </tbody>\n</table>\n</div>",
            "text/plain": "    age  sex  chest_pain  blood_pressure  serum_cholestoral  \\\n0  63.0  1.0         1.0           145.0              233.0   \n1  67.0  1.0         4.0           160.0              286.0   \n2  67.0  1.0         4.0           120.0              229.0   \n3  37.0  1.0         3.0           130.0              250.0   \n4  41.0  0.0         2.0           130.0              204.0   \n\n   fasting_blood_sugar  electrocardiographic  max_heart_rate  induced_angina  \\\n0                  1.0                   2.0           150.0             0.0   \n1                  0.0                   2.0           108.0             1.0   \n2                  0.0                   2.0           129.0             1.0   \n3                  0.0                   0.0           187.0             0.0   \n4                  0.0                   2.0           172.0             0.0   \n\n   ST_depression  slope  no_of_vessels  thal  diagnosis  \n0            2.3    3.0            0.0   6.0          0  \n1            1.5    2.0            3.0   3.0          2  \n2            2.6    2.0            2.0   7.0          1  \n3            3.5    3.0            0.0   3.0          0  \n4            1.4    1.0            0.0   3.0          0  "
          },
          "metadata": {}
        }
      ]
    },
    {
      "metadata": {},
      "cell_type": "markdown",
      "source": "## 2. Explore the data\n\n### Target value"
    },
    {
      "metadata": {
        "trusted": true
      },
      "cell_type": "code",
      "source": "# count values of explained variable\ndf.diagnosis.value_counts()",
      "execution_count": 14,
      "outputs": [
        {
          "output_type": "execute_result",
          "execution_count": 14,
          "data": {
            "text/plain": "0    164\n1     55\n2     36\n3     35\n4     13\nName: diagnosis, dtype: int64"
          },
          "metadata": {}
        }
      ]
    },
    {
      "metadata": {
        "trusted": true
      },
      "cell_type": "code",
      "source": "# create a boolean vector and map it with corresponding values (True=1, False=0)\ndf.diagnosis = (df.diagnosis != 0).astype(int)\ndf.diagnosis.value_counts()",
      "execution_count": 15,
      "outputs": [
        {
          "output_type": "execute_result",
          "execution_count": 15,
          "data": {
            "text/plain": "0    164\n1    139\nName: diagnosis, dtype: int64"
          },
          "metadata": {}
        }
      ]
    },
    {
      "metadata": {
        "trusted": true
      },
      "cell_type": "code",
      "source": "# create plot\nf, ax = plt.subplots()\ndf['diagnosis'].value_counts().plot.pie(autopct='%1.1f%%', ax=ax, shadow=True)\nax.set_title('diagnosis')\nax.set_ylabel('')\nplt.show()",
      "execution_count": 16,
      "outputs": [
        {
          "output_type": "display_data",
          "data": {
            "image/png": "[encoded data removed]",
            "text/plain": "<Figure size 432x288 with 1 Axes>"
          },
          "metadata": {}
        }
      ]
    },
    {
      "metadata": {},
      "cell_type": "markdown",
      "source": "### Numeric features"
    },
    {
      "metadata": {
        "trusted": true,
        "scrolled": true
      },
      "cell_type": "code",
      "source": "# view of descriptive statistics\ndf[['serum_cholestoral', 'max_heart_rate', 'age', 'blood_pressure', 'ST_depression']].describe()",
      "execution_count": 17,
      "outputs": [
        {
          "output_type": "execute_result",
          "execution_count": 17,
          "data": {
            "text/html": "<div>\n<style scoped>\n    .dataframe tbody tr th:only-of-type {\n        vertical-align: middle;\n    }\n\n    .dataframe tbody tr th {\n        vertical-align: top;\n    }\n\n    .dataframe thead th {\n        text-align: right;\n    }\n</style>\n<table border=\"1\" class=\"dataframe\">\n  <thead>\n    <tr style=\"text-align: right;\">\n      <th></th>\n      <th>serum_cholestoral</th>\n      <th>max_heart_rate</th>\n      <th>age</th>\n      <th>blood_pressure</th>\n      <th>ST_depression</th>\n    </tr>\n  </thead>\n  <tbody>\n    <tr>\n      <th>count</th>\n      <td>303.000000</td>\n      <td>303.000000</td>\n      <td>303.000000</td>\n      <td>303.000000</td>\n      <td>303.000000</td>\n    </tr>\n    <tr>\n      <th>mean</th>\n      <td>246.693069</td>\n      <td>149.607261</td>\n      <td>54.438944</td>\n      <td>131.689769</td>\n      <td>1.039604</td>\n    </tr>\n    <tr>\n      <th>std</th>\n      <td>51.776918</td>\n      <td>22.875003</td>\n      <td>9.038662</td>\n      <td>17.599748</td>\n      <td>1.161075</td>\n    </tr>\n    <tr>\n      <th>min</th>\n      <td>126.000000</td>\n      <td>71.000000</td>\n      <td>29.000000</td>\n      <td>94.000000</td>\n      <td>0.000000</td>\n    </tr>\n    <tr>\n      <th>25%</th>\n      <td>211.000000</td>\n      <td>133.500000</td>\n      <td>48.000000</td>\n      <td>120.000000</td>\n      <td>0.000000</td>\n    </tr>\n    <tr>\n      <th>50%</th>\n      <td>241.000000</td>\n      <td>153.000000</td>\n      <td>56.000000</td>\n      <td>130.000000</td>\n      <td>0.800000</td>\n    </tr>\n    <tr>\n      <th>75%</th>\n      <td>275.000000</td>\n      <td>166.000000</td>\n      <td>61.000000</td>\n      <td>140.000000</td>\n      <td>1.600000</td>\n    </tr>\n    <tr>\n      <th>max</th>\n      <td>564.000000</td>\n      <td>202.000000</td>\n      <td>77.000000</td>\n      <td>200.000000</td>\n      <td>6.200000</td>\n    </tr>\n  </tbody>\n</table>\n</div>",
            "text/plain": "       serum_cholestoral  max_heart_rate         age  blood_pressure  \\\ncount         303.000000      303.000000  303.000000      303.000000   \nmean          246.693069      149.607261   54.438944      131.689769   \nstd            51.776918       22.875003    9.038662       17.599748   \nmin           126.000000       71.000000   29.000000       94.000000   \n25%           211.000000      133.500000   48.000000      120.000000   \n50%           241.000000      153.000000   56.000000      130.000000   \n75%           275.000000      166.000000   61.000000      140.000000   \nmax           564.000000      202.000000   77.000000      200.000000   \n\n       ST_depression  \ncount     303.000000  \nmean        1.039604  \nstd         1.161075  \nmin         0.000000  \n25%         0.000000  \n50%         0.800000  \n75%         1.600000  \nmax         6.200000  "
          },
          "metadata": {}
        }
      ]
    },
    {
      "metadata": {},
      "cell_type": "markdown",
      "source": "### Categorical features"
    },
    {
      "metadata": {
        "trusted": true
      },
      "cell_type": "code",
      "source": "# count ill vs healthy people grouped by sex\ndf.groupby(['sex','diagnosis'])['diagnosis'].count()",
      "execution_count": 18,
      "outputs": [
        {
          "output_type": "execute_result",
          "execution_count": 18,
          "data": {
            "text/plain": "sex  diagnosis\n0.0  0             72\n     1             25\n1.0  0             92\n     1            114\nName: diagnosis, dtype: int64"
          },
          "metadata": {}
        }
      ]
    },
    {
      "metadata": {},
      "cell_type": "markdown",
      "source": "## 3. Data Preparation\n\nIn order to make our dataset compatible with machine learning algorithms contained in scikit-learn library, first of all, we need to handle all missing data."
    },
    {
      "metadata": {
        "trusted": true
      },
      "cell_type": "code",
      "source": "# show columns having missing values\ndf.isnull().sum()",
      "execution_count": 19,
      "outputs": [
        {
          "output_type": "execute_result",
          "execution_count": 19,
          "data": {
            "text/plain": "age                     0\nsex                     0\nchest_pain              0\nblood_pressure          0\nserum_cholestoral       0\nfasting_blood_sugar     0\nelectrocardiographic    0\nmax_heart_rate          0\ninduced_angina          0\nST_depression           0\nslope                   0\nno_of_vessels           4\nthal                    2\ndiagnosis               0\ndtype: int64"
          },
          "metadata": {}
        }
      ]
    },
    {
      "metadata": {
        "trusted": true
      },
      "cell_type": "code",
      "source": "# fill missing values with mode\ndf['no_of_vessels'].fillna(df['no_of_vessels'].mode()[0], inplace=True)\ndf['thal'].fillna(df['thal'].mode()[0], inplace=True)",
      "execution_count": 20,
      "outputs": []
    },
    {
      "metadata": {
        "trusted": true
      },
      "cell_type": "code",
      "source": "# extract the target variable\nX, y = df.iloc[:, :-1], df.iloc[:, -1]\nprint(X.shape)\nprint(y.shape)\n# split the data\nX_train, X_test, y_train, y_test = train_test_split(X, y, test_size=0.3, random_state=2606)\nprint (\"train_set_x shape: \" + str(X_train.shape))\nprint (\"train_set_y shape: \" + str(y_train.shape))\nprint (\"test_set_x shape: \" + str(X_test.shape))\nprint (\"test_set_y shape: \" + str(y_test.shape))\n# scale feature matrices\nscaler = StandardScaler()\nX_train = scaler.fit_transform(X_train)\nX_test = scaler.transform(X_test)",
      "execution_count": 45,
      "outputs": [
        {
          "output_type": "stream",
          "text": "(303, 13)\n(303,)\ntrain_set_x shape: (212, 13)\ntrain_set_y shape: (212,)\ntest_set_x shape: (91, 13)\ntest_set_y shape: (91,)\n",
          "name": "stdout"
        }
      ]
    },
    {
      "metadata": {},
      "cell_type": "markdown",
      "source": "## 4. Modelling and predicting with Machine Learning"
    },
    {
      "metadata": {
        "trusted": true
      },
      "cell_type": "code",
      "source": "def train_model(X_train, y_train, X_test, y_test, classifier, **kwargs):\n    \n    \"\"\"\n    Fit the chosen model and print out the score.\n    \n    \"\"\"\n    \n    # instantiate model\n    model = classifier(**kwargs)\n    \n    # train model\n    model.fit(X_train,y_train)\n    \n    # check accuracy and print out the results\n    fit_accuracy = model.score(X_train, y_train)\n    test_accuracy = model.score(X_test, y_test)\n    \n    print(f\"Train accuracy: {fit_accuracy:0.2%}\")\n    print(f\"Test accuracy: {test_accuracy:0.2%}\")\n    \n    return model",
      "execution_count": 46,
      "outputs": []
    },
    {
      "metadata": {},
      "cell_type": "markdown",
      "source": "### Logistic Regression\n\nLogistic regression is a basic technique in statistical analysis that attempts to predict a data value based on prior observations. A logistic regression algorithm looks at the relationship between a dependent variable and one or more dependent variables."
    },
    {
      "metadata": {
        "trusted": true
      },
      "cell_type": "code",
      "source": "# Logistic Regression\nmodel = train_model(X_train, y_train, X_test, y_test, LogisticRegression)",
      "execution_count": 47,
      "outputs": [
        {
          "output_type": "stream",
          "text": "Train accuracy: 85.85%\nTest accuracy: 85.71%\n",
          "name": "stdout"
        },
        {
          "output_type": "stream",
          "text": "/home/nbuser/anaconda3_501/lib/python3.6/site-packages/sklearn/linear_model/logistic.py:433: FutureWarning: Default solver will be changed to 'lbfgs' in 0.22. Specify a solver to silence this warning.\n  FutureWarning)\n",
          "name": "stderr"
        }
      ]
    },
    {
      "metadata": {},
      "cell_type": "markdown",
      "source": "### Support Vector Machines"
    },
    {
      "metadata": {
        "trusted": true
      },
      "cell_type": "code",
      "source": "# Support Vector Machines\nmodel = train_model(X_train, y_train, X_test, y_test, SVC)",
      "execution_count": 48,
      "outputs": [
        {
          "output_type": "stream",
          "text": "Train accuracy: 92.92%\nTest accuracy: 82.42%\n",
          "name": "stdout"
        }
      ]
    },
    {
      "metadata": {
        "trusted": true
      },
      "cell_type": "code",
      "source": "# tuned SVM\nmodel = train_model(X_train, y_train, X_test, y_test, SVC, C=0.1, gamma = 0.15, kernel='rbf')",
      "execution_count": 66,
      "outputs": [
        {
          "output_type": "stream",
          "text": "Train accuracy: 86.32%\nTest accuracy: 83.52%\n",
          "name": "stdout"
        }
      ]
    },
    {
      "metadata": {},
      "cell_type": "markdown",
      "source": "### Random Forests\n\nRandom forests are an ensemble learning method for classification, regression and other tasks, that operate by constructing a multitude of decision trees at training time and outputting the class that is the mode of the classes (classification) or mean prediction (regression) of the individual trees."
    },
    {
      "metadata": {
        "trusted": true
      },
      "cell_type": "code",
      "source": "# Random Forests\nmodel = train_model(X_train, y_train, X_test, y_test, RandomForestClassifier, random_state=4)\npd.Series(model.feature_importances_,X.columns).sort_values(ascending=True).plot.barh()",
      "execution_count": 68,
      "outputs": [
        {
          "output_type": "stream",
          "text": "Train accuracy: 98.58%\nTest accuracy: 82.42%\n",
          "name": "stdout"
        },
        {
          "output_type": "stream",
          "text": "/home/nbuser/anaconda3_501/lib/python3.6/site-packages/sklearn/ensemble/forest.py:246: FutureWarning: The default value of n_estimators will change from 10 in version 0.20 to 100 in 0.22.\n  \"10 in version 0.20 to 100 in 0.22.\", FutureWarning)\n",
          "name": "stderr"
        },
        {
          "output_type": "execute_result",
          "execution_count": 68,
          "data": {
            "text/plain": "<matplotlib.axes._subplots.AxesSubplot at 0x7fc3283dd6d8>"
          },
          "metadata": {}
        },
        {
          "output_type": "display_data",
          "data": {
            "image/png": "[encoded data removed]",
            "text/plain": "<Figure size 432x288 with 1 Axes>"
          },
          "metadata": {
            "needs_background": "light"
          }
        }
      ]
    },
    {
      "metadata": {
        "trusted": true
      },
      "cell_type": "code",
      "source": "",
      "execution_count": null,
      "outputs": []
    }
  ],
  "metadata": {
    "kernelspec": {
      "name": "python36",
      "display_name": "Python 3.6",
      "language": "python"
    },
    "language_info": {
      "mimetype": "text/x-python",
      "nbconvert_exporter": "python",
      "name": "python",
      "pygments_lexer": "ipython3",
      "version": "3.6.6",
      "file_extension": ".py",
      "codemirror_mode": {
        "version": 3,
        "name": "ipython"
      }
    }
  },
  "nbformat": 4,
  "nbformat_minor": 2
}