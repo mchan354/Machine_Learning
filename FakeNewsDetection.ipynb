{
 "cells": [
  {
   "cell_type": "code",
   "execution_count": 2,
   "metadata": {},
   "outputs": [],
   "source": [
    "import pandas as pd\n",
    "import numpy as np\n",
    "from sklearn.model_selection import train_test_split\n",
    "from sklearn import metrics\n",
    "from sklearn.svm import SVC\n",
    "from sklearn.neighbors import *\n",
    "from sklearn.feature_extraction.text import CountVectorizer\n",
    "from sklearn.feature_extraction.text import TfidfTransformer\n",
    "from sklearn.naive_bayes import MultinomialNB\n",
    "from sklearn.pipeline import Pipeline"
   ]
  },
  {
   "cell_type": "code",
   "execution_count": 3,
   "metadata": {},
   "outputs": [],
   "source": [
    "test_data = pd.read_csv('test_2.csv', usecols=[\"ID\", \"viewCount\", \"likeCount\",\"dislikeCount\",\"commentCount\",\"title\",\"description\"])\n",
    "train_data = pd.read_csv('train.csv', usecols=[\"class\", \"viewCount\", \"likeCount\",\"dislikeCount\",\"commentCount\",\"title\",\"description\"])\n",
    "\n",
    "Y_train = train_data[\"class\"]\n",
    "\n",
    "X_train = train_data.drop(\"class\", axis=1)\n",
    "X_test = test_data.drop(\"ID\", axis=1)\n",
    "\n",
    "def isupper(text):\n",
    "    array = []\n",
    "    for x in text:\n",
    "        if x.isupper() or x=='!':\n",
    "            array.append(x)\n",
    "    return len(array)\n",
    "\n",
    "def istrue(x):\n",
    "    if x == True:\n",
    "        return 1\n",
    "    else:\n",
    "        return 0\n",
    "\n",
    "X_train[\"upper\"] = X_train[\"title\"].apply(lambda x: isupper(x))\n",
    "X_test[\"upper\"] = X_test[\"title\"].apply(lambda x: isupper(x))\n",
    "X_train[\"title_length\"] = X_train[\"title\"].apply(lambda x: len(x))\n",
    "X_test[\"title_length\"] = X_test[\"title\"].apply(lambda x: len(x))\n",
    "X_train[\"description_length\"] = X_train[\"description\"].apply(lambda x: len(x))\n",
    "X_test[\"description_length\"] = X_test[\"description\"].apply(lambda x: len(x))\n",
    "\n",
    "\n",
    "X_train[\"likeRatio\"] = X_train[\"likeCount\"] / (X_train[\"likeCount\"]+X_train[\"dislikeCount\"])\n",
    "X_train.drop(\"dislikeCount\", axis=1)\n",
    "X_train.drop(\"likeCount\", axis=1)\n",
    "X_test[\"likeRatio\"] = X_test[\"likeCount\"] / (X_test[\"likeCount\"]+X_test[\"dislikeCount\"])\n",
    "X_test.drop(\"dislikeCount\", axis=1)\n",
    "X_test.drop(\"likeCount\", axis=1)\n",
    "\n",
    "\n",
    "\n",
    "\n",
    "\n",
    "vector = Pipeline(steps=[('coutvectorizer', CountVectorizer()),('test', MultinomialNB())])\n",
    "vector = vector.fit(X_train[\"title\"], Y_train)\n",
    "X_train[\"title\"] = vector.predict(X_train[\"title\"])\n",
    "X_test[\"title\"] = vector.predict(X_test[\"title\"])\n",
    "\n",
    "X_train[\"title\"] = X_train[\"title\"].apply(lambda x: istrue(x))\n",
    "X_test[\"title\"] = X_test[\"title\"].apply(lambda x: istrue(x))\n",
    "\n",
    "vector = vector.fit(X_train[\"description\"], Y_train)\n",
    "X_train[\"description\"] = vector.predict(X_train[\"description\"])\n",
    "X_test[\"description\"] = vector.predict(X_test[\"description\"])\n",
    "\n",
    "X_train[\"description\"] = X_train[\"description\"].apply(lambda x: istrue(x))\n",
    "X_test[\"description\"] = X_test[\"description\"].apply(lambda x: istrue(x))\n",
    "\n",
    "\n",
    "X_train = X_train.apply(lambda x: (x - np.min(x)) / (np.max(x) - np.min(x)))\n",
    "X_test = X_test.apply(lambda x: (x - np.min(x)) / (np.max(x) - np.min(x)))\n",
    "\n"
   ]
  },
  {
   "cell_type": "code",
   "execution_count": 5,
   "metadata": {},
   "outputs": [
    {
     "data": {
      "text/plain": [
       "0.9987332864180155"
      ]
     },
     "execution_count": 5,
     "metadata": {},
     "output_type": "execute_result"
    }
   ],
   "source": [
    "svclassifier = KNeighborsClassifier(p=1, n_neighbors=7)\n",
    "svclassifier.fit(X_train,Y_train)\n",
    "svclassifier.score(X_train, Y_train)"
   ]
  },
  {
   "cell_type": "code",
   "execution_count": 6,
   "metadata": {},
   "outputs": [
    {
     "data": {
      "text/html": [
       "<div>\n",
       "<style scoped>\n",
       "    .dataframe tbody tr th:only-of-type {\n",
       "        vertical-align: middle;\n",
       "    }\n",
       "\n",
       "    .dataframe tbody tr th {\n",
       "        vertical-align: top;\n",
       "    }\n",
       "\n",
       "    .dataframe thead th {\n",
       "        text-align: right;\n",
       "    }\n",
       "</style>\n",
       "<table border=\"1\" class=\"dataframe\">\n",
       "  <thead>\n",
       "    <tr style=\"text-align: right;\">\n",
       "      <th></th>\n",
       "      <th>ID</th>\n",
       "      <th>class</th>\n",
       "    </tr>\n",
       "  </thead>\n",
       "  <tbody>\n",
       "    <tr>\n",
       "      <th>0</th>\n",
       "      <td>oRB8lJynqBA</td>\n",
       "      <td>True</td>\n",
       "    </tr>\n",
       "    <tr>\n",
       "      <th>1</th>\n",
       "      <td>of-UPoEnw_w</td>\n",
       "      <td>False</td>\n",
       "    </tr>\n",
       "    <tr>\n",
       "      <th>2</th>\n",
       "      <td>d28cz00HHto</td>\n",
       "      <td>False</td>\n",
       "    </tr>\n",
       "    <tr>\n",
       "      <th>3</th>\n",
       "      <td>Tftg_LnwTW0</td>\n",
       "      <td>False</td>\n",
       "    </tr>\n",
       "    <tr>\n",
       "      <th>4</th>\n",
       "      <td>qR0mkm65Whk</td>\n",
       "      <td>False</td>\n",
       "    </tr>\n",
       "  </tbody>\n",
       "</table>\n",
       "</div>"
      ],
      "text/plain": [
       "            ID  class\n",
       "0  oRB8lJynqBA   True\n",
       "1  of-UPoEnw_w  False\n",
       "2  d28cz00HHto  False\n",
       "3  Tftg_LnwTW0  False\n",
       "4  qR0mkm65Whk  False"
      ]
     },
     "execution_count": 6,
     "metadata": {},
     "output_type": "execute_result"
    }
   ],
   "source": [
    "Y_pred = svclassifier.predict(X_test)\n",
    "\n",
    "test_data[\"class\"] = Y_pred\n",
    "test_data[\"class\"] = test_data[\"class\"].map(lambda x: \"True\" if x==1 else \"False\")\n",
    "result = test_data[[\"ID\",\"class\"]]\n",
    "result.to_csv(\"submission.csv\", index=False)\n",
    "result.head()"
   ]
  }
 ],
 "metadata": {
  "kernelspec": {
   "display_name": "Python 3",
   "language": "python",
   "name": "python3"
  },
  "language_info": {
   "codemirror_mode": {
    "name": "ipython",
    "version": 3
   },
   "file_extension": ".py",
   "mimetype": "text/x-python",
   "name": "python",
   "nbconvert_exporter": "python",
   "pygments_lexer": "ipython3",
   "version": "3.7.2"
  }
 },
 "nbformat": 4,
 "nbformat_minor": 2
}
